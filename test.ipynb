{
 "cells": [
  {
   "cell_type": "code",
   "execution_count": 46,
   "metadata": {},
   "outputs": [],
   "source": [
    "import pickle\n",
    "import numpy as np\n",
    "import scipy\n",
    "import scipy.interpolate\n",
    "from dmp import DMP"
   ]
  },
  {
   "cell_type": "code",
   "execution_count": 48,
   "metadata": {},
   "outputs": [],
   "source": [
    "dmp = DMP()"
   ]
  },
  {
   "cell_type": "code",
   "execution_count": 82,
   "metadata": {},
   "outputs": [
    {
     "data": {
      "text/plain": [
       "(30,)"
      ]
     },
     "execution_count": 82,
     "metadata": {},
     "output_type": "execute_result"
    }
   ],
   "source": [
    "dmp.basis_centers.shape"
   ]
  },
  {
   "cell_type": "code",
   "execution_count": 81,
   "metadata": {},
   "outputs": [
    {
     "data": {
      "text/plain": [
       "(30,)"
      ]
     },
     "execution_count": 81,
     "metadata": {},
     "output_type": "execute_result"
    }
   ],
   "source": [
    "dmp.basis_variances.shape"
   ]
  },
  {
   "cell_type": "code",
   "execution_count": null,
   "metadata": {},
   "outputs": [],
   "source": []
  },
  {
   "cell_type": "code",
   "execution_count": 78,
   "metadata": {},
   "outputs": [
    {
     "data": {
      "text/plain": [
       "array([[10.,  0.,  0.,  0.,  0.,  0.],\n",
       "       [ 0., 10.,  0.,  0.,  0.,  0.],\n",
       "       [ 0.,  0., 10.,  0.,  0.,  0.],\n",
       "       [ 0.,  0.,  0., 10.,  0.,  0.],\n",
       "       [ 0.,  0.,  0.,  0., 10.,  0.],\n",
       "       [ 0.,  0.,  0.,  0.,  0., 10.]])"
      ]
     },
     "execution_count": 78,
     "metadata": {},
     "output_type": "execute_result"
    }
   ],
   "source": [
    "dmp.K"
   ]
  },
  {
   "cell_type": "code",
   "execution_count": 52,
   "metadata": {},
   "outputs": [],
   "source": [
    "a = np.array([[1, 1, 1], [2, 2, 2]])\n",
    "b = np.array([1, 2])"
   ]
  },
  {
   "cell_type": "code",
   "execution_count": 54,
   "metadata": {},
   "outputs": [
    {
     "data": {
      "text/plain": [
       "((2, 3), (2,))"
      ]
     },
     "execution_count": 54,
     "metadata": {},
     "output_type": "execute_result"
    }
   ],
   "source": [
    "a.shape, b.shape"
   ]
  },
  {
   "cell_type": "code",
   "execution_count": 84,
   "metadata": {},
   "outputs": [
    {
     "data": {
      "text/plain": [
       "(2, 1)"
      ]
     },
     "execution_count": 84,
     "metadata": {},
     "output_type": "execute_result"
    }
   ],
   "source": [
    "b.reshape((-1, 1)).shape"
   ]
  },
  {
   "cell_type": "code",
   "execution_count": 87,
   "metadata": {},
   "outputs": [
    {
     "data": {
      "text/plain": [
       "(2, 3, 1)"
      ]
     },
     "execution_count": 87,
     "metadata": {},
     "output_type": "execute_result"
    }
   ],
   "source": [
    "a[:, :, None].shape"
   ]
  },
  {
   "cell_type": "code",
   "execution_count": 74,
   "metadata": {},
   "outputs": [
    {
     "data": {
      "text/plain": [
       "array([[1., 1., 1.],\n",
       "       [1., 1., 1.]])"
      ]
     },
     "execution_count": 74,
     "metadata": {},
     "output_type": "execute_result"
    }
   ],
   "source": [
    "a / b.reshape((len(b), -1))"
   ]
  },
  {
   "cell_type": "code",
   "execution_count": 76,
   "metadata": {},
   "outputs": [
    {
     "data": {
      "text/plain": [
       "array([0.56, 0.84, 0.72, 0.8 , 0.76, 0.68, 0.96, 0.68, 0.64, 0.76, 0.68,\n",
       "       0.88, 0.92, 0.76, 0.76, 0.72, 1.04, 1.16, 0.88, 1.12, 0.6 , 0.72,\n",
       "       0.52, 0.76, 0.72, 0.72, 0.6 , 0.72, 0.76, 0.72, 0.68, 0.68, 0.6 ,\n",
       "       0.88, 1.  , 0.56, 0.72, 0.92, 0.8 , 0.72, 0.76, 0.72, 0.64, 0.84,\n",
       "       0.68, 0.72, 0.68, 0.84, 0.64, 0.72, 0.56, 0.72, 0.6 , 0.68, 0.8 ,\n",
       "       0.68, 0.84, 0.64, 0.84, 0.68, 0.64, 0.92, 0.8 , 0.56, 0.84, 0.84,\n",
       "       0.72, 0.64, 0.72, 0.72, 0.6 , 0.72, 0.68, 0.76, 0.72, 0.8 , 0.88,\n",
       "       0.88, 0.68, 0.72, 0.76, 0.6 , 0.84, 0.84, 0.6 , 0.76, 0.92])"
      ]
     },
     "execution_count": 76,
     "metadata": {},
     "output_type": "execute_result"
    }
   ],
   "source": [
    "tau = T[:, -1]\n",
    "tau"
   ]
  },
  {
   "cell_type": "code",
   "execution_count": 33,
   "metadata": {
    "tags": []
   },
   "outputs": [],
   "source": [
    "def load_dataset(dataset_path=\"data/demos.pkl\"):\n",
    "    with open(dataset_path, 'rb') as f:\n",
    "        dataset = pickle.load(f)\n",
    "    return [traj[:, :6] for traj in dataset[\"trajectories\"]] # 1st 6 elements are joint angle"
   ]
  },
  {
   "cell_type": "code",
   "execution_count": 88,
   "metadata": {
    "collapsed": false,
    "jupyter": {
     "outputs_hidden": false
    }
   },
   "outputs": [],
   "source": [
    "data = load_dataset()"
   ]
  },
  {
   "cell_type": "code",
   "execution_count": 38,
   "metadata": {},
   "outputs": [],
   "source": [
    "def interpolate(trajectories, initial_dt=0.04):\n",
    "    \"\"\"\n",
    "    Combine the given variable length trajectories into a fixed length array\n",
    "    by interpolating shorter arrays to the maximum given sequence length.\n",
    "\n",
    "    trajectories: A list of N arrays of shape (T_i, num_dofs) where T_i is the number\n",
    "        of time steps in trajectory i\n",
    "    initial_dt: A scalar corresponding to the duration of each time step.\n",
    "\n",
    "    Returns: A numpy array of shape (N, max_i T_i, num_dofs)\n",
    "    \"\"\"\n",
    "    length = max(len(traj) for traj in trajectories)\n",
    "    dofs = trajectories[0].shape[1]\n",
    "\n",
    "    X = np.zeros((len(trajectories), length, dofs))\n",
    "    T = np.zeros((len(trajectories), length))\n",
    "\n",
    "    for ti, traj in enumerate(trajectories):\n",
    "        t = np.arange(len(traj)) * initial_dt\n",
    "        t_new = np.linspace(0, t.max(), length)\n",
    "        T[ti, :] = t_new\n",
    "        for deg in range(dofs):\n",
    "            path_gen = scipy.interpolate.interp1d(t, traj[:, deg])\n",
    "            X[ti, :, deg] = path_gen(t_new)\n",
    "    return X, T"
   ]
  },
  {
   "cell_type": "code",
   "execution_count": 90,
   "metadata": {},
   "outputs": [],
   "source": [
    "X, T = interpolate(data)"
   ]
  },
  {
   "cell_type": "code",
   "execution_count": 93,
   "metadata": {},
   "outputs": [
    {
     "data": {
      "text/plain": [
       "((30, 6), (30,))"
      ]
     },
     "execution_count": 93,
     "metadata": {},
     "output_type": "execute_result"
    }
   ],
   "source": [
    "X[0].shape, T[0].shape"
   ]
  },
  {
   "cell_type": "code",
   "execution_count": 43,
   "metadata": {},
   "outputs": [
    {
     "data": {
      "text/plain": [
       "(87, 30, 6)"
      ]
     },
     "execution_count": 43,
     "metadata": {},
     "output_type": "execute_result"
    }
   ],
   "source": [
    "X.shape"
   ]
  },
  {
   "cell_type": "code",
   "execution_count": 44,
   "metadata": {},
   "outputs": [
    {
     "data": {
      "text/plain": [
       "(87, 30)"
      ]
     },
     "execution_count": 44,
     "metadata": {},
     "output_type": "execute_result"
    }
   ],
   "source": [
    "T.shape"
   ]
  },
  {
   "cell_type": "code",
   "execution_count": 26,
   "metadata": {},
   "outputs": [
    {
     "data": {
      "text/plain": [
       "(87, (15, 6))"
      ]
     },
     "execution_count": 26,
     "metadata": {},
     "output_type": "execute_result"
    }
   ],
   "source": [
    "len(data), data[0].shape"
   ]
  },
  {
   "cell_type": "code",
   "execution_count": 31,
   "metadata": {},
   "outputs": [
    {
     "name": "stdout",
     "output_type": "stream",
     "text": [
      "(15, 6)\n",
      "(22, 6)\n",
      "(19, 6)\n",
      "(21, 6)\n",
      "(20, 6)\n",
      "(18, 6)\n",
      "(25, 6)\n",
      "(18, 6)\n",
      "(17, 6)\n",
      "(20, 6)\n",
      "(18, 6)\n",
      "(23, 6)\n",
      "(24, 6)\n",
      "(20, 6)\n",
      "(20, 6)\n",
      "(19, 6)\n",
      "(27, 6)\n",
      "(30, 6)\n",
      "(23, 6)\n",
      "(29, 6)\n",
      "(16, 6)\n",
      "(19, 6)\n",
      "(14, 6)\n",
      "(20, 6)\n",
      "(19, 6)\n",
      "(19, 6)\n",
      "(16, 6)\n",
      "(19, 6)\n",
      "(20, 6)\n",
      "(19, 6)\n",
      "(18, 6)\n",
      "(18, 6)\n",
      "(16, 6)\n",
      "(23, 6)\n",
      "(26, 6)\n",
      "(15, 6)\n",
      "(19, 6)\n",
      "(24, 6)\n",
      "(21, 6)\n",
      "(19, 6)\n",
      "(20, 6)\n",
      "(19, 6)\n",
      "(17, 6)\n",
      "(22, 6)\n",
      "(18, 6)\n",
      "(19, 6)\n",
      "(18, 6)\n",
      "(22, 6)\n",
      "(17, 6)\n",
      "(19, 6)\n",
      "(15, 6)\n",
      "(19, 6)\n",
      "(16, 6)\n",
      "(18, 6)\n",
      "(21, 6)\n",
      "(18, 6)\n",
      "(22, 6)\n",
      "(17, 6)\n",
      "(22, 6)\n",
      "(18, 6)\n",
      "(17, 6)\n",
      "(24, 6)\n",
      "(21, 6)\n",
      "(15, 6)\n",
      "(22, 6)\n",
      "(22, 6)\n",
      "(19, 6)\n",
      "(17, 6)\n",
      "(19, 6)\n",
      "(19, 6)\n",
      "(16, 6)\n",
      "(19, 6)\n",
      "(18, 6)\n",
      "(20, 6)\n",
      "(19, 6)\n",
      "(21, 6)\n",
      "(23, 6)\n",
      "(23, 6)\n",
      "(18, 6)\n",
      "(19, 6)\n",
      "(20, 6)\n",
      "(16, 6)\n",
      "(22, 6)\n",
      "(22, 6)\n",
      "(16, 6)\n",
      "(20, 6)\n",
      "(24, 6)\n"
     ]
    }
   ],
   "source": [
    "for i in range(len(data)):\n",
    "    print(data[i].shape)"
   ]
  },
  {
   "cell_type": "code",
   "execution_count": 30,
   "metadata": {},
   "outputs": [
    {
     "ename": "ValueError",
     "evalue": "all input arrays must have the same shape",
     "output_type": "error",
     "traceback": [
      "\u001b[1;31m---------------------------------------------------------------------------\u001b[0m",
      "\u001b[1;31mValueError\u001b[0m                                Traceback (most recent call last)",
      "Input \u001b[1;32mIn [30]\u001b[0m, in \u001b[0;36m<cell line: 1>\u001b[1;34m()\u001b[0m\n\u001b[1;32m----> 1\u001b[0m \u001b[43mnp\u001b[49m\u001b[38;5;241;43m.\u001b[39;49m\u001b[43mstack\u001b[49m\u001b[43m(\u001b[49m\u001b[43mdata\u001b[49m\u001b[43m,\u001b[49m\u001b[43m \u001b[49m\u001b[38;5;241;43m0\u001b[39;49m\u001b[43m)\u001b[49m\u001b[38;5;241m.\u001b[39mshape\n",
      "File \u001b[1;32m<__array_function__ internals>:5\u001b[0m, in \u001b[0;36mstack\u001b[1;34m(*args, **kwargs)\u001b[0m\n",
      "File \u001b[1;32mC:\\ProgramData\\Anaconda3\\lib\\site-packages\\numpy\\core\\shape_base.py:426\u001b[0m, in \u001b[0;36mstack\u001b[1;34m(arrays, axis, out)\u001b[0m\n\u001b[0;32m    424\u001b[0m shapes \u001b[38;5;241m=\u001b[39m {arr\u001b[38;5;241m.\u001b[39mshape \u001b[38;5;28;01mfor\u001b[39;00m arr \u001b[38;5;129;01min\u001b[39;00m arrays}\n\u001b[0;32m    425\u001b[0m \u001b[38;5;28;01mif\u001b[39;00m \u001b[38;5;28mlen\u001b[39m(shapes) \u001b[38;5;241m!=\u001b[39m \u001b[38;5;241m1\u001b[39m:\n\u001b[1;32m--> 426\u001b[0m     \u001b[38;5;28;01mraise\u001b[39;00m \u001b[38;5;167;01mValueError\u001b[39;00m(\u001b[38;5;124m'\u001b[39m\u001b[38;5;124mall input arrays must have the same shape\u001b[39m\u001b[38;5;124m'\u001b[39m)\n\u001b[0;32m    428\u001b[0m result_ndim \u001b[38;5;241m=\u001b[39m arrays[\u001b[38;5;241m0\u001b[39m]\u001b[38;5;241m.\u001b[39mndim \u001b[38;5;241m+\u001b[39m \u001b[38;5;241m1\u001b[39m\n\u001b[0;32m    429\u001b[0m axis \u001b[38;5;241m=\u001b[39m normalize_axis_index(axis, result_ndim)\n",
      "\u001b[1;31mValueError\u001b[0m: all input arrays must have the same shape"
     ]
    }
   ],
   "source": [
    "np.stack(data, 0).shape"
   ]
  },
  {
   "cell_type": "code",
   "execution_count": 13,
   "metadata": {},
   "outputs": [],
   "source": [
    "with open('data/demos.pkl', 'rb') as f:\n",
    "    dataset = pickle.load(f)"
   ]
  },
  {
   "cell_type": "code",
   "execution_count": 18,
   "metadata": {},
   "outputs": [
    {
     "data": {
      "text/plain": [
       "array([[1, 1, 1, 1, 1],\n",
       "       [2, 2, 2, 2, 2]])"
      ]
     },
     "execution_count": 18,
     "metadata": {},
     "output_type": "execute_result"
    }
   ],
   "source": [
    "a = np.array([[1, 1, 1, 1, 1], [2, 2, 2, 2, 2]])\n",
    "a"
   ]
  },
  {
   "cell_type": "code",
   "execution_count": 19,
   "metadata": {},
   "outputs": [
    {
     "data": {
      "text/plain": [
       "(2, 5)"
      ]
     },
     "execution_count": 19,
     "metadata": {},
     "output_type": "execute_result"
    }
   ],
   "source": [
    "a.shape"
   ]
  },
  {
   "cell_type": "code",
   "execution_count": 20,
   "metadata": {},
   "outputs": [
    {
     "data": {
      "text/plain": [
       "array([1, 2])"
      ]
     },
     "execution_count": 20,
     "metadata": {},
     "output_type": "execute_result"
    }
   ],
   "source": [
    "a[:, -1]"
   ]
  },
  {
   "cell_type": "code",
   "execution_count": 21,
   "metadata": {},
   "outputs": [],
   "source": [
    "a = np.array([[1, 1, 1], [2, 2, 2], [3, 3, 3]])\n",
    "b = np.array([3, 3, 3])"
   ]
  },
  {
   "cell_type": "code",
   "execution_count": 22,
   "metadata": {},
   "outputs": [
    {
     "data": {
      "text/plain": [
       "array([[0.33333333, 0.33333333, 0.33333333],\n",
       "       [0.66666667, 0.66666667, 0.66666667],\n",
       "       [1.        , 1.        , 1.        ]])"
      ]
     },
     "execution_count": 22,
     "metadata": {},
     "output_type": "execute_result"
    }
   ],
   "source": [
    "a / b"
   ]
  },
  {
   "cell_type": "code",
   "execution_count": null,
   "metadata": {},
   "outputs": [],
   "source": []
  }
 ],
 "metadata": {
  "kernelspec": {
   "display_name": "Python 3 (ipykernel)",
   "language": "python",
   "name": "python3"
  },
  "language_info": {
   "codemirror_mode": {
    "name": "ipython",
    "version": 3
   },
   "file_extension": ".py",
   "mimetype": "text/x-python",
   "name": "python",
   "nbconvert_exporter": "python",
   "pygments_lexer": "ipython3",
   "version": "3.9.12"
  }
 },
 "nbformat": 4,
 "nbformat_minor": 4
}
